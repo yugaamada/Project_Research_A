{
 "cells": [
  {
   "cell_type": "code",
   "execution_count": 1,
   "id": "07978138",
   "metadata": {},
   "outputs": [
    {
     "name": "stdout",
     "output_type": "stream",
     "text": [
      "pyenv: python: command not found\r\n",
      "\r\n",
      "The `python' command exists in these Python versions:\r\n",
      "  3.11.4\r\n",
      "\r\n",
      "Note: See 'pyenv help global' for tips on allowing both\r\n",
      "      python2 and python3 to be found.\r\n"
     ]
    }
   ],
   "source": [
    "!python --version"
   ]
  },
  {
   "cell_type": "code",
   "execution_count": 1,
   "id": "0e44bf75",
   "metadata": {},
   "outputs": [
    {
     "name": "stdout",
     "output_type": "stream",
     "text": [
      "pyenv: python: command not found\r\n",
      "\r\n",
      "The `python' command exists in these Python versions:\r\n",
      "  3.11.4\r\n",
      "\r\n",
      "Note: See 'pyenv help global' for tips on allowing both\r\n",
      "      python2 and python3 to be found.\r\n"
     ]
    }
   ],
   "source": [
    "!python --version"
   ]
  },
  {
   "cell_type": "code",
   "execution_count": null,
   "id": "5a64bc9b",
   "metadata": {},
   "outputs": [
    {
     "name": "stdout",
     "output_type": "stream",
     "text": [
      "\u001b7\u001b[?47h\u001b[>4;2m\u001b[?1h\u001b=\u001b[?2004h\u001b[?1004h\u001b[1;24r\u001b[?12h\u001b[?12l\u001b[22;2t\u001b[22;1t\u001b[29m\u001b[m\u001b[H\u001b[2J\u001b[?25l\u001b[24;1H\"~/.zshrc\" 8L, 322B\u001b[2;1H▽\u001b[6n\u001b[2;1H  \u001b[3;1H\u001bPzz\u001b\\\u001b[0%m\u001b[6n\u001b[3;1H           \u001b[1;1H\u001b[>c\u001b]10;?\u0007\u001b]11;?\u0007\u001b[1;1Hexport PATH=\"$PATH:/Users/mmsk1280141/development/flutter/bin\"\r\n",
      "export PATH=\"$PATH:/Users/mmsk1280141/android/cmdline-tools/tools/bin\"\u001b[2;71H\u001b[K\u001b[3;1Hexport PATH=\"$PATH:/Users/mmsk1280141/android/emulator\"\u001b[3;56H\u001b[K\u001b[4;1Hexport PYENV_ROOT=\"$HOME/.pyenv\"\r\n",
      "export PATH=\"$PYENV_ROOT/bin:$PATH\"\r\n",
      "eval \"$(pyenv init -)\"\r\n",
      "alias python='python3'\r\n",
      "alias pip='pip3'\r\n",
      "\u001b[1m\u001b[34m~                                                                               \u001b[10;1H~                                                                               \u001b[11;1H~                                                                               \u001b[12;1H~                                                                               \u001b[13;1H~                                                                               \u001b[14;1H~                                                                               \u001b[15;1H~                                                                               \u001b[16;1H~                                                                               \u001b[17;1H~                                                                               \u001b[18;1H~                                                                               \u001b[19;1H~                                                                               \u001b[20;1H~                                                                               \u001b[21;1H~                                                                               \u001b[22;1H~                                                                               \u001b[23;1H~                                                                               \u001b[1;1H\u001b[?25h\u001b[?4m"
     ]
    }
   ],
   "source": [
    "!vi ~/.zshrc"
   ]
  },
  {
   "cell_type": "code",
   "execution_count": null,
   "id": "0bce3ab8",
   "metadata": {},
   "outputs": [],
   "source": []
  }
 ],
 "metadata": {
  "kernelspec": {
   "display_name": "Python 3 (ipykernel)",
   "language": "python",
   "name": "python3"
  },
  "language_info": {
   "codemirror_mode": {
    "name": "ipython",
    "version": 3
   },
   "file_extension": ".py",
   "mimetype": "text/x-python",
   "name": "python",
   "nbconvert_exporter": "python",
   "pygments_lexer": "ipython3",
   "version": "3.10.9"
  }
 },
 "nbformat": 4,
 "nbformat_minor": 5
}
